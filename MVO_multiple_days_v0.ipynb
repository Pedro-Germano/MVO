{
 "cells": [
  {
   "cell_type": "markdown",
   "metadata": {},
   "source": [
    "# MVO for multiple Asset Classes"
   ]
  },
  {
   "cell_type": "markdown",
   "metadata": {},
   "source": [
    "## Few helper functions"
   ]
  },
  {
   "cell_type": "code",
   "execution_count": 3,
   "metadata": {},
   "outputs": [],
   "source": [
    "import scipy.optimize\n",
    "import pandas as pd\n",
    "import numpy as np\n",
    "import matplotlib.pyplot as plt\n",
    "\n",
    "# Calculates portfolio mean return\n",
    "def port_mean(W, R):\n",
    "    return sum(R * W)\n",
    "\n",
    "# Calculates portfolio variance of returns\n",
    "def port_var(W, C):\n",
    "    return np.dot(np.dot(W, C), W)\n",
    "\n",
    "# Combination of the two functions above - mean and variance of returns calculation\n",
    "def port_mean_var(W, R, C):\n",
    "    return port_mean(W, R), port_var(W, C)\n",
    "\n",
    "# Given risk-free rate, assets returns and covariances, this function calculates\n",
    "# mean-variance frontier and returns its [x,y] points in two arrays\n",
    "def solve_frontier(R, C, rf):\n",
    "    def fitness(W, R, C, r):\n",
    "        # For given level of return r, find weights which minimizes portfolio variance.\n",
    "        mean, var = port_mean_var(W, R, C)\n",
    "        penalty = 100 * abs(\n",
    "            mean - r)  # Big penalty for not meeting stated portfolio return effectively serves as optimization constraint\n",
    "        return var + penalty\n",
    "\n",
    "    frontier_mean, frontier_var, frontier_weights = [], [], []\n",
    "    n = len(R)  # Number of assets in the portfolio\n",
    "    for r in np.linspace(min(R), max(R), num=20):  # Iterate through the range of returns on Y axis\n",
    "        W = np.ones([n]) / n  # start optimization with equal weights\n",
    "        b_ = [(0, 1) for i in range(n)]\n",
    "        c_ = ({'type': 'eq', 'fun': lambda W: sum(W) - 1.})\n",
    "        optimized = scipy.optimize.minimize(fitness, W, (R, C, r), method='SLSQP', constraints=c_, bounds=b_)\n",
    "        if not optimized.success:\n",
    "            raise BaseException(optimized.message)\n",
    "        # add point to the efficient frontier [x,y] = [optimized.x, r]\n",
    "        frontier_mean.append(r)\n",
    "        frontier_var.append(port_var(optimized.x, C))\n",
    "        frontier_weights.append(optimized.x)\n",
    "    return np.array(frontier_mean), np.array(frontier_var), frontier_weights\n",
    "\n",
    "# Given risk-free rate, assets returns and covariances, this function calculates\n",
    "# weights of tangency portfolio with respect to sharpe ratio maximization\n",
    "def solve_weights(R, C, rf):\n",
    "    def fitness(W, R, C, rf):\n",
    "        mean, var = port_mean_var(W, R, C)  # calculate mean/variance of the portfolio\n",
    "        util = (mean - rf) / np.sqrt(var)  # utility = Sharpe ratio\n",
    "        return 1 / util  # maximize the utility, minimize its inverse value\n",
    "    n = len(R)\n",
    "    W = np.ones([n]) / n  # start optimization with equal weights\n",
    "    b_ = [(0., 1.) for i in range(n)]  # weights for boundaries between 0%..100%. No leverage, no shorting\n",
    "    c_ = ({'type': 'eq', 'fun': lambda W: sum(W) - 1.})  # Sum of weights must be 100%\n",
    "    optimized = scipy.optimize.minimize(fitness, W, (R, C, rf), method='SLSQP', constraints=c_, bounds=b_)\n",
    "    if not optimized.success: raise BaseException(optimized.message)\n",
    "    return optimized.x\n",
    "\n",
    "class Result:\n",
    "    def __init__(self, W, tan_mean, tan_var, front_mean, front_var, front_weights):\n",
    "        self.W=W\n",
    "        self.tan_mean=tan_mean\n",
    "        self.tan_var=tan_var\n",
    "        self.front_mean=front_mean\n",
    "        self.front_var=front_var\n",
    "        self.front_weights=front_weights\n",
    "        \n",
    "def optimize_frontier(R, C, rf):\n",
    "    W = solve_weights(R, C, rf)\n",
    "    tan_mean, tan_var = port_mean_var(W, R, C)  # calculate tangency portfolio\n",
    "    front_mean, front_var, front_weights = solve_frontier(R, C, rf)  # calculate efficient frontier\n",
    "    # Weights, Tangency portfolio asset means and variances, Efficient frontier means and variances\n",
    "    return Result(W, tan_mean, tan_var, front_mean, front_var, front_weights)\n",
    "\n",
    "def display_assets(names, R, C, color='black'):\n",
    "    n = len(names)\n",
    "    plt.scatter([C[i, i] ** .5 for i in range(n)], R, marker='x', color=color), plt.grid(True)  # draw assets\n",
    "    for i in range(n): \n",
    "        plt.text(C[i, i] ** .5, R[i], '  %s' % names[i], verticalalignment='center', color=color) # draw labels\n",
    "\n",
    "# def display_frontier(result: Result, label=None, color='black'):\n",
    "#     from collections import defaultdict\n",
    "#     from IPython.core.display import HTML\n",
    "#     # plt.text(result.tan_var ** .5, result.tan_mean, '   tangent', verticalalignment='bottom', color='r')\n",
    "#     plt.scatter(result.tan_var ** .5, result.tan_mean, marker='o', color=color), plt.grid(True)\n",
    "#     plt.plot(list(result.front_var ** .5), list(result.front_mean), label=label, color=color), plt.grid(True)  # draw efficient frontier\n",
    "    \n",
    "#     table = defaultdict(list)\n",
    "#     for mean, var, weights in zip(result.front_mean, result.front_var, result.front_weights):\n",
    "#         table['Mean'].append(mean)\n",
    "#         table['Variance'].append(var)\n",
    "#         for name, weight in zip(names, weights):\n",
    "#             table[name].append(weight)\n",
    "#     display(HTML(f'<b>Efficient frontier portfolios ({label})</b>'), pd.DataFrame(table))"
   ]
  },
  {
   "cell_type": "markdown",
   "metadata": {},
   "source": [
    "## Load Historical Prices"
   ]
  },
  {
   "cell_type": "code",
   "execution_count": 5,
   "metadata": {},
   "outputs": [],
   "source": [
    "def load_data():\n",
    "    \"\"\"\n",
    "    Load data from a CSV file and return a list of symbols and their corresponding prices.\n",
    "\n",
    "    Returns:\n",
    "    symbols (list): A list of symbols.\n",
    "    prices_out (list): A list of lists containing the prices for each symbol.\n",
    "    \"\"\"\n",
    "    symbols = ['IMA-S', 'IMA-B', 'IRF-M', 'IHFA', 'Ibovespa', 'S&P 500']\n",
    "    n = len(symbols)\n",
    "    prices_out = []\n",
    "    for s in symbols:\n",
    "        dataframe = pd.read_csv('G:/My Drive/Poli-USP/TCC/Codes/MVO/AA_indexes.csv', \n",
    "                                index_col=['Data'],\n",
    "                                sep=';', decimal=',', thousands=\" \",\n",
    "                                parse_dates=['Data'])\n",
    "        prices = list(dataframe.loc['2014-01-01':'2023-12-31', s])\n",
    "        prices_out.append(prices)\n",
    "    return symbols, prices_out\n",
    "\n",
    "names, prices = load_data()\n",
    "\n",
    "# display(prices)\n"
   ]
  },
  {
   "cell_type": "markdown",
   "metadata": {},
   "source": [
    "## Estimate assets hitorical return and covariances"
   ]
  },
  {
   "cell_type": "code",
   "execution_count": 6,
   "metadata": {},
   "outputs": [],
   "source": [
    "# Function takes historical stock prices together with market capitalizations and\n",
    "# calculates weights, historical returns and historical covariances\n",
    "def assets_historical_returns_and_covariances(prices):\n",
    "    prices = np.matrix(prices)  # create numpy matrix from prices\n",
    "    # create matrix of historical returns\n",
    "    rows, cols = prices.shape # each row is an asset\n",
    "    returns = np.empty([rows, cols - 1])\n",
    "    for r in range(rows):\n",
    "        for c in range(cols - 1):\n",
    "            p0, p1 = prices[r, c], prices[r, c + 1]\n",
    "            returns[r, c] = (p1 / p0) - 1 # create a matrix of returns\n",
    "    # calculate returns\n",
    "    expreturns = np.array([]) \n",
    "    expreturns = np.append(expreturns, (prices[:, -1] / prices[:, 0]))**(1/10) - 1 # Annualize returns\n",
    "    # expreturns = np.append(expreturns, np.mean(returns, axis=1)) # daily expected return for each asset\n",
    "    # expreturns = (1 + expreturns) ** (cols/10) - 1  # Annualize returns\n",
    "    # calculate covariances\n",
    "    covars = np.cov(returns)\n",
    "    covars = covars * cols/10  # Annualize covariances\n",
    "    return expreturns, covars\n",
    "\n",
    "R, C = assets_historical_returns_and_covariances(prices)\n",
    "rf = 0.0928  # Risk-free rate\n",
    "\n",
    "# where x is an array with a list or a matrix\n",
    "def percentage(x):\n",
    "    if len(x.shape) == 2:\n",
    "        x = np.round(np.multiply(x, 100), 2)\n",
    "        perc_x = np.empty(x.shape, dtype=object)\n",
    "        for r in range(x.shape[0]):\n",
    "            for c in range(x.shape[1]):\n",
    "                perc_x[r, c] = str(x[r, c]) + '%'\n",
    "    else:\n",
    "        perc_x = np.round(np.multiply(x, 100), 2)\n",
    "        perc_x = [str(value) + '%' for value in perc_x]\n",
    "    return perc_x\n",
    "\n",
    "vol = np.sqrt(np.diagonal(C))\n",
    "display(pd.DataFrame({'Return': percentage(R)}, index=names).T)\n",
    "display(pd.DataFrame({'Volatility': percentage(vol)}, index=names).T)\n",
    "display(pd.DataFrame(percentage(C), index=names, columns=names))"
   ]
  },
  {
   "cell_type": "markdown",
   "metadata": {},
   "source": [
    "## Mean-Variance Optimization"
   ]
  },
  {
   "cell_type": "code",
   "execution_count": 8,
   "metadata": {},
   "outputs": [
    {
     "name": "stderr",
     "output_type": "stream",
     "text": [
      "<>:4: SyntaxWarning: invalid escape sequence '\\s'\n",
      "<>:4: SyntaxWarning: invalid escape sequence '\\m'\n",
      "<>:4: SyntaxWarning: invalid escape sequence '\\s'\n",
      "<>:4: SyntaxWarning: invalid escape sequence '\\m'\n",
      "C:\\Users\\pedro\\AppData\\Local\\Temp\\ipykernel_18528\\884786114.py:4: SyntaxWarning: invalid escape sequence '\\s'\n",
      "  plt.xlabel('variance $\\sigma$'), plt.ylabel('mean $\\mu$'), plt.show()\n",
      "C:\\Users\\pedro\\AppData\\Local\\Temp\\ipykernel_18528\\884786114.py:4: SyntaxWarning: invalid escape sequence '\\m'\n",
      "  plt.xlabel('variance $\\sigma$'), plt.ylabel('mean $\\mu$'), plt.show()\n"
     ]
    },
    {
     "data": {
      "image/png": "[encoded data removed]",
      "text/plain": [
       "<Figure size 640x480 with 1 Axes>"
      ]
     },
     "metadata": {},
     "output_type": "display_data"
    },
    {
     "data": {
      "text/html": [
       "<div>\n",
       "<style scoped>\n",
       "    .dataframe tbody tr th:only-of-type {\n",
       "        vertical-align: middle;\n",
       "    }\n",
       "\n",
       "    .dataframe tbody tr th {\n",
       "        vertical-align: top;\n",
       "    }\n",
       "\n",
       "    .dataframe thead th {\n",
       "        text-align: right;\n",
       "    }\n",
       "</style>\n",
       "<table border=\"1\" class=\"dataframe\">\n",
       "  <thead>\n",
       "    <tr style=\"text-align: right;\">\n",
       "      <th></th>\n",
       "      <th>IMA-S</th>\n",
       "      <th>IMA-B</th>\n",
       "      <th>IRF-M</th>\n",
       "      <th>IHFA</th>\n",
       "      <th>Ibovespa</th>\n",
       "      <th>S&amp;P 500</th>\n",
       "    </tr>\n",
       "  </thead>\n",
       "  <tbody>\n",
       "    <tr>\n",
       "      <th>Weight</th>\n",
       "      <td>0.0</td>\n",
       "      <td>0.18507</td>\n",
       "      <td>0.81493</td>\n",
       "      <td>2.034935e-16</td>\n",
       "      <td>7.987969e-16</td>\n",
       "      <td>0.0</td>\n",
       "    </tr>\n",
       "  </tbody>\n",
       "</table>\n",
       "</div>"
      ],
      "text/plain": [
       "        IMA-S    IMA-B    IRF-M          IHFA      Ibovespa  S&P 500\n",
       "Weight    0.0  0.18507  0.81493  2.034935e-16  7.987969e-16      0.0"
      ]
     },
     "metadata": {},
     "output_type": "display_data"
    }
   ],
   "source": [
    "res1 = optimize_frontier(R, C, rf)\n",
    "\n",
    "display_assets(names, R, C, color='blue')\n",
    "plt.xlabel('variance $\\sigma$'), plt.ylabel('mean $\\mu$'), plt.show()\n",
    "display(pd.DataFrame({'Weight': res1.W}, index=names).T)"
   ]
  },
  {
   "cell_type": "code",
   "execution_count": null,
   "metadata": {},
   "outputs": [],
   "source": []
  }
 ],
 "metadata": {
  "kernelspec": {
   "display_name": "Python 3",
   "language": "python",
   "name": "python3"
  },
  "language_info": {
   "codemirror_mode": {
    "name": "ipython",
    "version": 3
   },
   "file_extension": ".py",
   "mimetype": "text/x-python",
   "name": "python",
   "nbconvert_exporter": "python",
   "pygments_lexer": "ipython3",
   "version": "3.12.4"
  }
 },
 "nbformat": 4,
 "nbformat_minor": 2
}
